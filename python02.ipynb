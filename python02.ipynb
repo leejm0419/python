{
  "nbformat": 4,
  "nbformat_minor": 0,
  "metadata": {
    "colab": {
      "name": "python02.ipynb",
      "provenance": [],
      "collapsed_sections": [],
      "include_colab_link": true
    },
    "kernelspec": {
      "name": "python3",
      "display_name": "Python 3"
    },
    "language_info": {
      "name": "python"
    }
  },
  "cells": [
    {
      "cell_type": "markdown",
      "metadata": {
        "id": "view-in-github",
        "colab_type": "text"
      },
      "source": [
        "<a href=\"https://colab.research.google.com/github/leejm0419/python/blob/main/python02.ipynb\" target=\"_parent\"><img src=\"https://colab.research.google.com/assets/colab-badge.svg\" alt=\"Open In Colab\"/></a>"
      ]
    },
    {
      "cell_type": "markdown",
      "metadata": {
        "id": "U_N0OPT_KdOK"
      },
      "source": [
        "# **컬렉션자료형(collection data type)**\n",
        "+ 여러 요소를 묶어서 처리할 수 있는 자료형 \n",
        "+ 각 요소에 접근하는 방법이 제공\n",
        "\n",
        "![대체 텍스트](https://drive.google.com/uc?export=view&id=1qNHKZPJv546haViE6KBY3kg8gUlHJm_F)"
      ]
    },
    {
      "cell_type": "markdown",
      "metadata": {
        "id": "bskomZoIKr0G"
      },
      "source": [
        "## 문자열 "
      ]
    },
    {
      "cell_type": "markdown",
      "metadata": {
        "id": "wrbbIeVOdXc7"
      },
      "source": [
        "### 문자열 요소 접근"
      ]
    },
    {
      "cell_type": "code",
      "metadata": {
        "id": "CWKy8Fo7eq94",
        "colab": {
          "base_uri": "https://localhost:8080/"
        },
        "outputId": "4cd97482-13fe-4432-e5f3-0eca5a639796"
      },
      "source": [
        "#문자요소 접근 \n",
        "s = 'Hello Python!'\n",
        "print(s[6 : 12])"
      ],
      "execution_count": null,
      "outputs": [
        {
          "output_type": "stream",
          "text": [
            "Python\n"
          ],
          "name": "stdout"
        }
      ]
    },
    {
      "cell_type": "code",
      "metadata": {
        "id": "hLhbsd1XiBFK",
        "colab": {
          "base_uri": "https://localhost:8080/"
        },
        "outputId": "126c134b-4c47-451d-e51c-f08d3ceaf08b"
      },
      "source": [
        "# 문자열에 포함된 숫자들의 합\n",
        "s = 'co12vid19'\n",
        "\n",
        "#print(int(s[5])+int(s[6]))\n"
      ],
      "execution_count": null,
      "outputs": [
        {
          "output_type": "stream",
          "text": [
            "10\n"
          ],
          "name": "stdout"
        }
      ]
    },
    {
      "cell_type": "code",
      "metadata": {
        "colab": {
          "base_uri": "https://localhost:8080/"
        },
        "id": "p8L6XxjYb1Ir",
        "outputId": "692123a1-a90c-487e-c3e2-6a25e6ec18d1"
      },
      "source": [
        "data = input()\n",
        "\n",
        "sum = 0\n",
        "\n",
        "for item in data :\n",
        "  if '1' <= item <= '9' :\n",
        "   sum = sum + int(item)\n",
        "\n",
        "print(f'{data} 중 숫자의 합은 {sum}')"
      ],
      "execution_count": null,
      "outputs": [
        {
          "output_type": "stream",
          "text": [
            "co12vid19\n",
            "co12vid19 중 숫자의 합은 13\n"
          ],
          "name": "stdout"
        }
      ]
    },
    {
      "cell_type": "markdown",
      "metadata": {
        "id": "EeRoj_qXeTUz"
      },
      "source": [
        "### 문자열 인덱싱\n",
        " -  문자열의 각 문자는 0부터 시작되는 인덱스를 가짐\n",
        " - [인덱스]를 이용하여 인덱스위치의 문자 추출 :  처음위치 [0], 마지막위치 [-1]\n",
        " "
      ]
    },
    {
      "cell_type": "code",
      "metadata": {
        "id": "RAggJY-wejri"
      },
      "source": [
        "s = 'Hello Python!'\n",
        "\n",
        "# 첫번쨰 문자\n",
        "\n",
        "# 마지막 문자 "
      ],
      "execution_count": null,
      "outputs": []
    },
    {
      "cell_type": "markdown",
      "metadata": {
        "id": "b_aP0gP72DaV"
      },
      "source": [
        "---\n",
        "### 해결문제\n",
        "---\n",
        "주민번호를 입력받아서 남여를 구분하시오. 입력형식 123456-1234567"
      ]
    },
    {
      "cell_type": "code",
      "metadata": {
        "id": "97RRp4Vf2VAs",
        "colab": {
          "base_uri": "https://localhost:8080/"
        },
        "outputId": "9ad06bcd-76bc-40e3-ac21-1e40b7ec7197"
      },
      "source": [
        "s = '123456-2234567'\n",
        "\n",
        "#if s[7] == '1' or s[7] == '3' :\n",
        "if s[7] in ['1','3']:\n",
        "   print('남')\n",
        "else:\n",
        "   print('여')\n",
        " "
      ],
      "execution_count": null,
      "outputs": [
        {
          "output_type": "stream",
          "text": [
            "여\n"
          ],
          "name": "stdout"
        }
      ]
    },
    {
      "cell_type": "markdown",
      "metadata": {
        "id": "_ECVXl6meezS"
      },
      "source": [
        "\n",
        "### 문자열 슬라이싱 \n",
        " - [인덱스1:인덱스2]: 인덱스1 위치에서 인덱스2 -1 위치까지 잘라냄\n",
        " - [인덱스1:] : 인덱스1 위치에서 끝까지 잘라냄\n",
        " - [: 인덱스2] : 처음부터 인덱스2 -1 위치까지 잘라냄"
      ]
    },
    {
      "cell_type": "code",
      "metadata": {
        "id": "u7XUAQwvfSP2",
        "colab": {
          "base_uri": "https://localhost:8080/",
          "height": 35
        },
        "outputId": "7462ded5-0b69-4087-8f12-57e7376a0066"
      },
      "source": [
        "s = 'Hello Python!'\n",
        "\n",
        "# 5글자 추출\n",
        "s[::-1]"
      ],
      "execution_count": null,
      "outputs": [
        {
          "output_type": "execute_result",
          "data": {
            "application/vnd.google.colaboratory.intrinsic+json": {
              "type": "string"
            },
            "text/plain": [
              "'!nohtyP olleH'"
            ]
          },
          "metadata": {
            "tags": []
          },
          "execution_count": 44
        }
      ]
    },
    {
      "cell_type": "markdown",
      "metadata": {
        "id": "9JuBLEqQjfRn"
      },
      "source": [
        "### 문자열 연산\n",
        "+ 문자열 더하기(+)\n",
        "+ 문자열 곱하기(*)"
      ]
    },
    {
      "cell_type": "code",
      "metadata": {
        "id": "1K42RN_kjj1L",
        "colab": {
          "base_uri": "https://localhost:8080/"
        },
        "outputId": "f63a4254-17a6-49ba-961b-f7270a296a05"
      },
      "source": [
        "'''\n",
        "다음과 같이 출력\n",
        "------------------------------\n",
        "Hello Python!2021\n",
        "------------------------------\n",
        "'''\n",
        "s = 'Hello Python!'\n",
        "print('_'*20)\n",
        "print(s+'2021')\n",
        "#print(s + str(2021))\n",
        "\n",
        " "
      ],
      "execution_count": null,
      "outputs": [
        {
          "output_type": "stream",
          "text": [
            "____________________\n",
            "Hello Python!2021\n"
          ],
          "name": "stdout"
        }
      ]
    },
    {
      "cell_type": "code",
      "metadata": {
        "colab": {
          "base_uri": "https://localhost:8080/"
        },
        "id": "WJ3Slb3UmxgB",
        "outputId": "0f73da63-f349-4005-ad03-7e1d6698e260"
      },
      "source": [
        "s.find('p')"
      ],
      "execution_count": null,
      "outputs": [
        {
          "output_type": "execute_result",
          "data": {
            "text/plain": [
              "-1"
            ]
          },
          "metadata": {
            "tags": []
          },
          "execution_count": 58
        }
      ]
    },
    {
      "cell_type": "code",
      "metadata": {
        "colab": {
          "base_uri": "https://localhost:8080/",
          "height": 35
        },
        "id": "clh8WQ0-nwJD",
        "outputId": "cc456b4d-4aa0-420f-ae94-44ec03b5edf1"
      },
      "source": [
        "s.replace('!','!!!')"
      ],
      "execution_count": null,
      "outputs": [
        {
          "output_type": "execute_result",
          "data": {
            "application/vnd.google.colaboratory.intrinsic+json": {
              "type": "string"
            },
            "text/plain": [
              "'Hello Python!!!'"
            ]
          },
          "metadata": {
            "tags": []
          },
          "execution_count": 63
        }
      ]
    },
    {
      "cell_type": "code",
      "metadata": {
        "colab": {
          "base_uri": "https://localhost:8080/"
        },
        "id": "GsaXfZRInllf",
        "outputId": "a6f5edc0-de00-4302-f385-90aebc50fe10"
      },
      "source": [
        "s = '^^'.join(s)\n",
        "print(s)"
      ],
      "execution_count": null,
      "outputs": [
        {
          "output_type": "stream",
          "text": [
            "H^^e^^l^^l^^o^^ ^^P^^y^^t^^h^^o^^n^^!\n"
          ],
          "name": "stdout"
        }
      ]
    },
    {
      "cell_type": "code",
      "metadata": {
        "colab": {
          "base_uri": "https://localhost:8080/"
        },
        "id": "udC142RqoCER",
        "outputId": "53428e92-dd33-4088-b2be-edd2fc7e0c59"
      },
      "source": [
        "s.split('-')"
      ],
      "execution_count": null,
      "outputs": [
        {
          "output_type": "execute_result",
          "data": {
            "text/plain": [
              "['H^^e^^l^^l^^o^^ ^^P^^y^^t^^h^^o^^n^^!']"
            ]
          },
          "metadata": {
            "tags": []
          },
          "execution_count": 65
        }
      ]
    },
    {
      "cell_type": "code",
      "metadata": {
        "colab": {
          "base_uri": "https://localhost:8080/"
        },
        "id": "OHbBvpkyoIcx",
        "outputId": "753fabda-6346-4ead-8a82-a4f0d316e1fb"
      },
      "source": [
        "s = 'Hello Python!'\n",
        "s.split(' ')"
      ],
      "execution_count": null,
      "outputs": [
        {
          "output_type": "execute_result",
          "data": {
            "text/plain": [
              "['Hello', 'Python!']"
            ]
          },
          "metadata": {
            "tags": []
          },
          "execution_count": 67
        }
      ]
    },
    {
      "cell_type": "markdown",
      "metadata": {
        "id": "AMTyZCqsfi6c"
      },
      "source": [
        "### **문자열 메소드**\n",
        "+ **len()** : 문자열 길이 구하기\n",
        "+ **count()** : 문자의 개수 구하기\n",
        "+ **find()** : 문자가 처음 나오는 위치 반환 , 없으면 -1\n",
        "+ **index()** : 문자가 처음 나오는 위치 반환, 없으면 오류\n",
        "+ **join()** : 문자열 사이에 문자 삽입, 삽입문자’.join(문자열)\n",
        "+ **upper()** :소문자를 대문자로 변환\n",
        "+ **lower()** : 대문자를 소문자로 변환\n",
        "+ **replace()** : 문자열 바꾸기\n",
        "+ **replace(원본, 변환문자)**\n",
        "+ **split()** : 문자열 나누기\n",
        " - 인수가 없으면 공백(스페이스, 탭, 엔터 등)을 기준"
      ]
    },
    {
      "cell_type": "markdown",
      "metadata": {
        "id": "wehzUobPivZ1"
      },
      "source": [
        "---\n",
        "### 해결문제\n",
        "---\n",
        "코로나(corona)는 라틴말로 왕관을 뜻하며 통상 태양을 둘러싼 외곽의 빛(광환)을 지칭한다. 코로나바이러스라는 이름은 전자현미경으로 이 바이러스를 관찰했을 때 마치 코로나와 유사한 모양을 띠어 붙여진 이름이다. 이번에 중국의 우환에서 시작된 코로나바이러스는 2019년에 발견된 새로운 코로나바이러스라는 뜻으로 2019-nCoV로 붙여졌다. nCoV는 novel(새로운) CoV(코로나바이러스)라는 뜻이다.\n",
        "\n",
        "+ 주어진 문자열은 문장으로 구성 되어 있는지 출력하시오. \n",
        "+ 찾고자 하는 단어를 입력 받아서 해당 단어가 몇 번 언급되었는지 확인해 보세요."
      ]
    },
    {
      "cell_type": "code",
      "metadata": {
        "id": "Bm6acluwjTZf",
        "colab": {
          "base_uri": "https://localhost:8080/"
        },
        "outputId": "4272b45a-7eed-43da-f02f-5b5bd234483b"
      },
      "source": [
        "'''\n",
        "다음과 같이 출력 \n",
        "--------------------------------------------------\n",
        "4개의 문장으로 이루어져있습니다.\n",
        "['코로나(corona)는 라틴말로 왕관을 뜻하며 통상 태양을 둘러싼 외곽의 빛(광환)을 지칭한다', ' 코로나바이러스라는 이름은 전자현미경으로 이 바이러스를 관찰했을 때 마치 코로나와 유사한 모양을 띠어 붙여진 이름이다', ' 이번에 중국의 우환에서 시작된 코로나바이러스는 2019년에 발견된 새로운 코로나바이러스라는 뜻으로 2019-nCoV로 붙여졌다', ' nCoV는 novel(새로운) CoV(코로나바이러스)라는 뜻이다', ' ']\n",
        "--------------------------------------------------\n",
        "찾고자하는 단어를 입력하세요.코로나\n",
        "--------------------------------------------------\n",
        "코로나는 6번 언급되었습니다.\n",
        "--------------------------------------------------\n",
        "'''\n",
        "\n",
        "corona = '''\n",
        "코로나(corona)는 라틴말로 왕관을 뜻하며 통상 태양을 둘러싼 외곽의 빛(광환)을 지칭한다. \n",
        "코로나바이러스라는 이름은 전자현미경으로 이 바이러스를 관찰했을 때 마치 코로나와 유사한 모양을 띠어 붙여진 이름이다. \n",
        "이번에 중국의 우환에서 시작된 코로나바이러스는 2019년에 발견된 새로운 코로나바이러스라는 뜻으로 2019-nCoV로 붙여졌다. \n",
        "nCoV는 novel(새로운) CoV(코로나바이러스)라는 뜻이다. \n",
        "'''\n",
        "\n",
        "print(corona.count('.'))\n",
        "corona = corona.replace('\\n','')\n",
        "print(corona.split('.'))\n"
      ],
      "execution_count": null,
      "outputs": [
        {
          "output_type": "stream",
          "text": [
            "4\n",
            "['코로나(corona)는 라틴말로 왕관을 뜻하며 통상 태양을 둘러싼 외곽의 빛(광환)을 지칭한다', ' 코로나바이러스라는 이름은 전자현미경으로 이 바이러스를 관찰했을 때 마치 코로나와 유사한 모양을 띠어 붙여진 이름이다', ' 이번에 중국의 우환에서 시작된 코로나바이러스는 2019년에 발견된 새로운 코로나바이러스라는 뜻으로 2019-nCoV로 붙여졌다', ' nCoV는 novel(새로운) CoV(코로나바이러스)라는 뜻이다', ' ']\n"
          ],
          "name": "stdout"
        }
      ]
    },
    {
      "cell_type": "code",
      "metadata": {
        "colab": {
          "base_uri": "https://localhost:8080/"
        },
        "id": "S9JxudDmpXj0",
        "outputId": "393e5bbd-bc06-4021-afee-15e2e749dbfa"
      },
      "source": [
        "w = input()\n",
        "\n",
        "print(corona.count(w))"
      ],
      "execution_count": null,
      "outputs": [
        {
          "output_type": "stream",
          "text": [
            "코로나\n",
            "6\n"
          ],
          "name": "stdout"
        }
      ]
    },
    {
      "cell_type": "markdown",
      "metadata": {
        "id": "ijNhIH6CmrXJ"
      },
      "source": [
        "## **리스트(list)**\n",
        " - 리스트의 각 요소는 순서를 가지고 있음\n",
        " - 대괄호([])로 작성되며 각 요소는 쉼표(,)로 구분\n",
        " - 요소를 추가, 수정, 삭제 가능"
      ]
    },
    {
      "cell_type": "markdown",
      "metadata": {
        "id": "3SrhTGkinJz7"
      },
      "source": [
        "### 리스트 생성\n",
        "+ []나 리스트 함수"
      ]
    },
    {
      "cell_type": "code",
      "metadata": {
        "colab": {
          "base_uri": "https://localhost:8080/"
        },
        "id": "85bo1N__qA5d",
        "outputId": "5e10fa4e-efa4-4620-9f29-27806de14f45"
      },
      "source": [
        "x = [1, 2, 3, 'a', 'b', [14.5, 5.6]]\n",
        "print(x, type(x))"
      ],
      "execution_count": null,
      "outputs": [
        {
          "output_type": "stream",
          "text": [
            "[1, 2, 3, 'a', 'b', [14.5, 5.6]] <class 'list'>\n"
          ],
          "name": "stdout"
        }
      ]
    },
    {
      "cell_type": "code",
      "metadata": {
        "colab": {
          "base_uri": "https://localhost:8080/"
        },
        "id": "DKBKSgqLqoWa",
        "outputId": "caad928c-456a-469f-8264-97bed8df7df1"
      },
      "source": [
        "print(x[3:])"
      ],
      "execution_count": null,
      "outputs": [
        {
          "output_type": "stream",
          "text": [
            "['a', 'b', [14.5, 5.6]]\n"
          ],
          "name": "stdout"
        }
      ]
    },
    {
      "cell_type": "code",
      "metadata": {
        "id": "9BAADR6snRE5"
      },
      "source": [
        "lt = []"
      ],
      "execution_count": null,
      "outputs": []
    },
    {
      "cell_type": "markdown",
      "metadata": {
        "id": "DT3ToqCOoJKi"
      },
      "source": [
        "### 리스트 요소 접근"
      ]
    },
    {
      "cell_type": "code",
      "metadata": {
        "id": "9b4wEJ17oNLo",
        "colab": {
          "base_uri": "https://localhost:8080/"
        },
        "outputId": "855f7adc-9074-4e54-b9ae-f75dc6115ff2"
      },
      "source": [
        "lt = ['1', '2', '3', '4', '5']\n",
        "\n",
        "# 각 요소 한줄로 출력 \n",
        "# 출력 : 1 2 3 4 5 \n",
        "\n",
        "for i in lt :\n",
        "  print(1, end = ' ')"
      ],
      "execution_count": null,
      "outputs": [
        {
          "output_type": "stream",
          "text": [
            "1 1 1 1 1 "
          ],
          "name": "stdout"
        }
      ]
    },
    {
      "cell_type": "code",
      "metadata": {
        "colab": {
          "base_uri": "https://localhost:8080/"
        },
        "id": "CzTw-YF0oiq5",
        "outputId": "7d0d6924-c5d6-4d44-f04f-cc189b631f10"
      },
      "source": [
        "lt = ['1', '2', '3', '4', '5']\n",
        "print(f'{lt} => {type(lt)}')\n",
        "\n",
        "for i in lt :\n",
        "  print(i, type(i), end = ' ')\n",
        "\n",
        "print()\n",
        "#요소를 모두 정수로 변환  \n",
        "it = [int(i) for i in lt]\n",
        "for i in lt :\n",
        "  print(i, type(i), end = ' ')"
      ],
      "execution_count": null,
      "outputs": [
        {
          "output_type": "stream",
          "text": [
            "['1', '2', '3', '4', '5'] => <class 'list'>\n",
            "1 <class 'str'> 2 <class 'str'> 3 <class 'str'> 4 <class 'str'> 5 <class 'str'> \n",
            "1 <class 'str'> 2 <class 'str'> 3 <class 'str'> 4 <class 'str'> 5 <class 'str'> "
          ],
          "name": "stdout"
        }
      ]
    },
    {
      "cell_type": "markdown",
      "metadata": {
        "id": "ZzvRHvMKtPo6"
      },
      "source": [
        "---\n",
        "\n",
        "**생각해보기 해결문제)**\n",
        "\n",
        "\n",
        "---\n",
        "정수형으로 입력되는 밑변과 높이를 공백을 기준으로 한 줄로 입력받는다면?\n",
        "* 예) 20 10"
      ]
    },
    {
      "cell_type": "code",
      "metadata": {
        "id": "LsKC8ezKtV5J",
        "colab": {
          "base_uri": "https://localhost:8080/"
        },
        "outputId": "9e633bb5-ac1e-4006-ca46-d10bcb1fc2ef"
      },
      "source": [
        " data = input()\n",
        "\n",
        "x = data.split(' ')\n",
        "x = [int(i) for i in x]\n",
        "print(x)\n",
        "print(f'밑변{x[0]}, 높이{x[1]} => 면적{x[0]*x[1]}')"
      ],
      "execution_count": null,
      "outputs": [
        {
          "output_type": "stream",
          "text": [
            "10 20\n",
            "[10, 20]\n",
            "밑변10, 높이20 => 면적200\n"
          ],
          "name": "stdout"
        }
      ]
    },
    {
      "cell_type": "code",
      "metadata": {
        "colab": {
          "base_uri": "https://localhost:8080/"
        },
        "id": "LpI-uKM2D2zQ",
        "outputId": "bbfc5f17-77cb-4134-c4aa-0cfb65573cad"
      },
      "source": [
        "lt = [int(item) for item in lt]\n",
        "lt"
      ],
      "execution_count": null,
      "outputs": [
        {
          "output_type": "execute_result",
          "data": {
            "text/plain": [
              "[1, 2, 3, 4, 5]"
            ]
          },
          "metadata": {
            "tags": []
          },
          "execution_count": 16
        }
      ]
    },
    {
      "cell_type": "code",
      "metadata": {
        "colab": {
          "base_uri": "https://localhost:8080/"
        },
        "id": "aoaBii6wEUfQ",
        "outputId": "fe68250f-3d82-4016-9c9b-da05bb5e0ba3"
      },
      "source": [
        "for item in lt :\n",
        "  print(item, type(item), int(item), type(int(item)))"
      ],
      "execution_count": null,
      "outputs": [
        {
          "output_type": "stream",
          "text": [
            "1 <class 'int'> 1 <class 'int'>\n",
            "2 <class 'str'> 2 <class 'int'>\n",
            "3 <class 'str'> 3 <class 'int'>\n",
            "4 <class 'str'> 4 <class 'int'>\n",
            "5 <class 'str'> 5 <class 'int'>\n"
          ],
          "name": "stdout"
        }
      ]
    },
    {
      "cell_type": "code",
      "metadata": {
        "colab": {
          "base_uri": "https://localhost:8080/"
        },
        "id": "WkDkE6lyE046",
        "outputId": "3e31daae-1606-4c2f-efc0-f6d3135399aa"
      },
      "source": [
        "lt[0] = int(lt[0])\n",
        "lt[1] = int(lt[1])\n",
        "lt[2] = int(lt[2])\n",
        "\n",
        "#range(5) => 0~4\n",
        "for i in range(len(lt)) :\n",
        "  lt[i] = int(lt[i])\n",
        "\n",
        "lt"
      ],
      "execution_count": null,
      "outputs": [
        {
          "output_type": "execute_result",
          "data": {
            "text/plain": [
              "[1, 2, 3, 4, 5]"
            ]
          },
          "metadata": {
            "tags": []
          },
          "execution_count": 15
        }
      ]
    },
    {
      "cell_type": "markdown",
      "metadata": {
        "id": "ih2lzZgSnXr6"
      },
      "source": [
        "### 리스트 인덱싱\n",
        " - 요소의 선택은 0부터 시작되는 인덱스로 접근\n",
        " - 리스트명[인덱스]"
      ]
    },
    {
      "cell_type": "code",
      "metadata": {
        "id": "7d_oMnoinapv",
        "colab": {
          "base_uri": "https://localhost:8080/"
        },
        "outputId": "73e0967f-4f47-4594-e4a5-b5a867ead1e8"
      },
      "source": [
        "lt = [1 , 3, 5]\n",
        "\n",
        "#마지막 요소 출력\n",
        "\n",
        "print(lt[2])\n",
        "print(lt[-1])"
      ],
      "execution_count": null,
      "outputs": [
        {
          "output_type": "stream",
          "text": [
            "5\n",
            "5\n"
          ],
          "name": "stdout"
        }
      ]
    },
    {
      "cell_type": "markdown",
      "metadata": {
        "id": "4kkhezktnt7Z"
      },
      "source": [
        "### 리스트 슬라이싱\n",
        " - 요소의 일부분 선택\n",
        " - 리스트명[시작인덱스:종료인덱스] : 종료인덱스는 포함되지 않음"
      ]
    },
    {
      "cell_type": "code",
      "metadata": {
        "id": "7xe1tbXvnzG5",
        "colab": {
          "base_uri": "https://localhost:8080/"
        },
        "outputId": "c51aec74-b690-4f28-b30f-1a2f58e9b2e8"
      },
      "source": [
        "lt = [1 , 3, 5]\n",
        "\n",
        "#3, 5 추출 \n",
        "lt[1:3]"
      ],
      "execution_count": null,
      "outputs": [
        {
          "output_type": "execute_result",
          "data": {
            "text/plain": [
              "[3, 5]"
            ]
          },
          "metadata": {
            "tags": []
          },
          "execution_count": 23
        }
      ]
    },
    {
      "cell_type": "markdown",
      "metadata": {
        "id": "TdtqmVq-pRDQ"
      },
      "source": [
        "### 리스트 연산\n",
        "+ 더하기(+) : 리스트와 리스트 연결\n",
        "+ 곱하기(*) : 리스트 요소 반복"
      ]
    },
    {
      "cell_type": "code",
      "metadata": {
        "id": "Yr-2ScgTpbe4",
        "colab": {
          "base_uri": "https://localhost:8080/"
        },
        "outputId": "40f0127e-dcb9-45ba-8a16-d3ff3b5cd880"
      },
      "source": [
        "lt1 = [1, 2, 3]\n",
        "lt2 = [3, 4, 5]\n",
        "\n",
        "#두 리스트 더하기 \n",
        "lt = lt1 + lt2\n",
        "print('리스트 더하기:',lt)\n",
        "#lt1 리스트 요소 3번 반복하기 \n",
        "print(lt1*3)"
      ],
      "execution_count": null,
      "outputs": [
        {
          "output_type": "stream",
          "text": [
            "리스트 더하기: [1, 2, 3, 3, 4, 5]\n",
            "[1, 2, 3, 1, 2, 3, 1, 2, 3]\n"
          ],
          "name": "stdout"
        }
      ]
    },
    {
      "cell_type": "code",
      "metadata": {
        "colab": {
          "base_uri": "https://localhost:8080/"
        },
        "id": "BsN5PYMjHuuw",
        "outputId": "7969fadc-ecd9-447e-d7a7-200b28a7d768"
      },
      "source": [
        "s1 = 'hello '\n",
        "s2 = 'python!'\n",
        "\n",
        "print(s1 + s2)\n",
        "print(s1 * 3)"
      ],
      "execution_count": null,
      "outputs": [
        {
          "output_type": "stream",
          "text": [
            "hello python!\n",
            "hello hello hello \n"
          ],
          "name": "stdout"
        }
      ]
    },
    {
      "cell_type": "code",
      "metadata": {
        "colab": {
          "base_uri": "https://localhost:8080/"
        },
        "id": "kI-LA7eyIAfu",
        "outputId": "442ca19c-bad4-45cb-8668-78c6a796a302"
      },
      "source": [
        "lt1 = [1, 2, 3]\n",
        "lt2 = [3, 4, 5]\n",
        "\n",
        "lt = [0,0,0]\n",
        "\n",
        "for i in range(len(lt1)) :\n",
        "  lt[i] = lt1[i] + lt2[i]\n",
        "\n",
        "print(lt)\n"
      ],
      "execution_count": null,
      "outputs": [
        {
          "output_type": "stream",
          "text": [
            "[4, 6, 8]\n"
          ],
          "name": "stdout"
        }
      ]
    },
    {
      "cell_type": "code",
      "metadata": {
        "colab": {
          "base_uri": "https://localhost:8080/"
        },
        "id": "u1Uso8qYJgo8",
        "outputId": "d825b0d5-58de-49c0-ba14-5b387ce455e9"
      },
      "source": [
        "lt1 = [1, 2, 3]\n",
        "lt2 = [3, 4, 5]\n",
        "\n",
        "lt = []\n",
        "\n",
        "for i in range(len(lt1)) :\n",
        "  lt.append(lt1[i] + lt2[i])\n",
        "\n",
        "print(lt)\n"
      ],
      "execution_count": null,
      "outputs": [
        {
          "output_type": "stream",
          "text": [
            "[4, 6, 8]\n"
          ],
          "name": "stdout"
        }
      ]
    },
    {
      "cell_type": "code",
      "metadata": {
        "colab": {
          "base_uri": "https://localhost:8080/"
        },
        "id": "BwllhGqIJ75d",
        "outputId": "341c3104-197b-4a03-a51c-b4e6a5a3facb"
      },
      "source": [
        "lt.insert(1, 6)\n",
        "lt"
      ],
      "execution_count": null,
      "outputs": [
        {
          "output_type": "execute_result",
          "data": {
            "text/plain": [
              "[2, 6, 2]"
            ]
          },
          "metadata": {
            "tags": []
          },
          "execution_count": 51
        }
      ]
    },
    {
      "cell_type": "code",
      "metadata": {
        "colab": {
          "base_uri": "https://localhost:8080/"
        },
        "id": "UAqHHplxKi9c",
        "outputId": "b0e97eaa-44ef-45a8-cb7f-a9c37cb8d6a1"
      },
      "source": [
        "lt.remove(6)\n",
        "lt"
      ],
      "execution_count": null,
      "outputs": [
        {
          "output_type": "execute_result",
          "data": {
            "text/plain": [
              "[2, 2]"
            ]
          },
          "metadata": {
            "tags": []
          },
          "execution_count": 52
        }
      ]
    },
    {
      "cell_type": "markdown",
      "metadata": {
        "id": "mXjykxxSqMzy"
      },
      "source": [
        "### 리스트 변경\n",
        "* 추가\n",
        " - 리스트명.append(추가요소) : 마지막에 추가\n",
        " - 리스트명.insert(인덱스, 추가요소) : 해당 인덱스에 요소 추가\n",
        "\n",
        "* 삭제\n",
        " - 리스트명.pop() : 마지막 요소 삭제\n",
        " - 리스트명.pop(인덱스) : 해당 인덱스 요소 삭제\n",
        " - 리스트명.remove(요소값) : 해당 요소값 삭제, 해당 값이 없으면 오류\n",
        "\n",
        "* 수정\n",
        " - 리스트명[인덱스]=변경값\n",
        " - (참고) isinstance()함수 : 특정 객체가 특정 타입인지에 대해서 확인할 수 있는 방법"
      ]
    },
    {
      "cell_type": "code",
      "metadata": {
        "id": "O-i_PPx-qQdh",
        "colab": {
          "base_uri": "https://localhost:8080/"
        },
        "outputId": "fcc4b85d-0164-41f9-d3d1-26b6616a8353"
      },
      "source": [
        "# 정수를 입력받아서 약수리스트를 구하기\n",
        "\n",
        "a=int(input())\n",
        "ab = []\n",
        "for i in range(1, a+1):\n",
        "  if(a%i==0):\n",
        "    ab.append(i)\n",
        "print(ab)"
      ],
      "execution_count": null,
      "outputs": [
        {
          "output_type": "stream",
          "text": [
            "24\n",
            "[1, 2, 3, 4, 6, 8, 12, 24]\n"
          ],
          "name": "stdout"
        }
      ]
    },
    {
      "cell_type": "code",
      "metadata": {
        "colab": {
          "base_uri": "https://localhost:8080/"
        },
        "id": "Inw20jLsPpCi",
        "outputId": "8d51066b-ec1a-459b-ad98-4243f5460d28"
      },
      "source": [
        "n = int(input())\n",
        "\n",
        "#range(시작,종류) : 시작에서 종료 전까지\n",
        "lt = [] #빈리스트\n",
        "for i in range(1,n+1) :\n",
        "  if n % i == 0 : lt.append(i)\n",
        "    \n",
        "    \n",
        "print(lt)"
      ],
      "execution_count": null,
      "outputs": [
        {
          "output_type": "stream",
          "text": [
            "10\n",
            "[1, 2, 5, 10]\n"
          ],
          "name": "stdout"
        }
      ]
    },
    {
      "cell_type": "code",
      "metadata": {
        "colab": {
          "base_uri": "https://localhost:8080/"
        },
        "id": "X0suT_1zbuq3",
        "outputId": "93951b90-f691-4db1-e5cf-c73d5e1bad3a"
      },
      "source": [
        "lt = [1, 2, 5 , 10]\n",
        "\n",
        "lr = [ i for i in lt if i > 2]\n",
        "lt"
      ],
      "execution_count": null,
      "outputs": [
        {
          "output_type": "execute_result",
          "data": {
            "text/plain": [
              "[1, 2, 5, 10]"
            ]
          },
          "metadata": {
            "tags": []
          },
          "execution_count": 7
        }
      ]
    },
    {
      "cell_type": "code",
      "metadata": {
        "colab": {
          "base_uri": "https://localhost:8080/"
        },
        "id": "5D04K5DoQi8e",
        "outputId": "8580ae26-c493-4fcf-d6e0-6a5eabdbdb96"
      },
      "source": [
        "'''\n",
        "sum = 0\n",
        "for i in lt :\n",
        "  sum = sum + i\n",
        "\n",
        "print(sum)\n",
        "'''\n",
        "\n",
        "print(f'합계 : {sum(lt)}')\n",
        "print(f'최대값 : {max(lt)}')\n",
        "print(f'최소 : {min(lt)}')\n",
        "print(f'평균 : {sum(lt) / len(lt)}')"
      ],
      "execution_count": null,
      "outputs": [
        {
          "output_type": "stream",
          "text": [
            "합계 : 18\n",
            "최대값 : 10\n",
            "최소 : 1\n",
            "평균 : 4.5\n"
          ],
          "name": "stdout"
        }
      ]
    },
    {
      "cell_type": "code",
      "metadata": {
        "colab": {
          "base_uri": "https://localhost:8080/"
        },
        "id": "RFc-e1uYqzl0",
        "outputId": "9ce29157-b34d-42b2-a445-cfe7ea10b6c6"
      },
      "source": [
        "#두번째 위치에 9 추가\n",
        " \n",
        "lt = [1,2,5,20]\n",
        "lt.insert(1,9)\n",
        "lt"
      ],
      "execution_count": null,
      "outputs": [
        {
          "output_type": "execute_result",
          "data": {
            "text/plain": [
              "[1, 9, 2, 5, 20]"
            ]
          },
          "metadata": {
            "tags": []
          },
          "execution_count": 3
        }
      ]
    },
    {
      "cell_type": "code",
      "metadata": {
        "colab": {
          "base_uri": "https://localhost:8080/"
        },
        "id": "jWJkTNWXrRqC",
        "outputId": "c1106185-8140-4faf-abfe-7e218a6acaa0"
      },
      "source": [
        "lt = [1, 2, 5 , 10]\n",
        "\n",
        "#2를 제외한 모든 요소 삭제\n",
        "'''\n",
        "lt1 = [1, 2, 5, 10]\n",
        "lt2 = [1, 2, 5, 10]\n",
        "\n",
        "for i in lt1:\n",
        "  if i != 2:\n",
        "    lt2.remove(i) \n",
        "lt2\n",
        "'''\n",
        "lt = [1,2,5,10]\n",
        "for i in range(len(lt)-1,-1,-1):\n",
        "  if lt[i] == 2:\n",
        "    continue\n",
        "  lt.remove(lt[i])\n",
        "print(lt)\n",
        "\n"
      ],
      "execution_count": null,
      "outputs": [
        {
          "output_type": "stream",
          "text": [
            "[2]\n"
          ],
          "name": "stdout"
        }
      ]
    },
    {
      "cell_type": "code",
      "metadata": {
        "id": "5iGnTAmUr5tB"
      },
      "source": [
        "# 문자인 요소를 숫자로 변경\n",
        "lt = [1, 2, '5', 10]\n",
        " "
      ],
      "execution_count": null,
      "outputs": []
    },
    {
      "cell_type": "markdown",
      "metadata": {
        "id": "sjMZQUazwNFi"
      },
      "source": [
        "### 리스트 메소드\n",
        "+ 리스트명.index(요소값) : 해당 요소값의 위치를 반환\n",
        " - 여러 개 요소가 존재하면 첫번째 위치 반환하고 없으면 오류\n",
        "+ 리스트명.count(요소값) : 리스트 요소 개수 구하기\n",
        "+ 리스트명.sort() : 오름차순 리스트 정렬\n",
        " - 리스트명.sort(reverse=True): 내림차순\n",
        "+ 리스트명.reverse() : 요소를 역순으로 뒤집어 줌 "
      ]
    },
    {
      "cell_type": "code",
      "metadata": {
        "colab": {
          "base_uri": "https://localhost:8080/"
        },
        "id": "k7G9dClIcAfN",
        "outputId": "b5b1c627-c801-4aa6-efbc-41590653e166"
      },
      "source": [
        "s = 'hello'\n",
        "s.count('l')"
      ],
      "execution_count": null,
      "outputs": [
        {
          "output_type": "execute_result",
          "data": {
            "text/plain": [
              "2"
            ]
          },
          "metadata": {
            "tags": []
          },
          "execution_count": 8
        }
      ]
    },
    {
      "cell_type": "code",
      "metadata": {
        "colab": {
          "base_uri": "https://localhost:8080/"
        },
        "id": "n3Uzf9gBcFVm",
        "outputId": "3c5495f4-6763-40ff-dd96-96f94f0eeb96"
      },
      "source": [
        "lt = [1, 2,2,4]\n",
        "lt.count(2)"
      ],
      "execution_count": null,
      "outputs": [
        {
          "output_type": "execute_result",
          "data": {
            "text/plain": [
              "2"
            ]
          },
          "metadata": {
            "tags": []
          },
          "execution_count": 10
        }
      ]
    },
    {
      "cell_type": "code",
      "metadata": {
        "colab": {
          "base_uri": "https://localhost:8080/"
        },
        "id": "_AJr5W0TcN4Q",
        "outputId": "65da4642-daa4-4f22-8e8c-8c27a2f7c0db"
      },
      "source": [
        "lt = [4,2,1,24]\n",
        "lt.reverse()\n",
        "lt"
      ],
      "execution_count": null,
      "outputs": [
        {
          "output_type": "execute_result",
          "data": {
            "text/plain": [
              "[24, 1, 2, 4]"
            ]
          },
          "metadata": {
            "tags": []
          },
          "execution_count": 15
        }
      ]
    },
    {
      "cell_type": "markdown",
      "metadata": {
        "id": "43DdLbrKLA6M"
      },
      "source": [
        "---\n",
        "### 해결문제\n",
        "\n",
        "\n",
        "---\n",
        "회문(palindrome)은 순서를 거꾸로 읽어도 제대로 읽은 것과 같은 단어와 문장이다, 단어를 입력받아 회문인지 판별하시오."
      ]
    },
    {
      "cell_type": "code",
      "metadata": {
        "id": "E2DoxJXfcnRe"
      },
      "source": [
        "eye\n",
        "level"
      ],
      "execution_count": null,
      "outputs": []
    },
    {
      "cell_type": "code",
      "metadata": {
        "colab": {
          "base_uri": "https://localhost:8080/"
        },
        "id": "MOE1zA8Sc1Fn",
        "outputId": "5b843137-a906-4b58-d5a4-394cb9a1af0c"
      },
      "source": [
        "data = input()"
      ],
      "execution_count": null,
      "outputs": [
        {
          "output_type": "stream",
          "text": [
            "토마토\n"
          ],
          "name": "stdout"
        }
      ]
    },
    {
      "cell_type": "code",
      "metadata": {
        "id": "EqHc4xGur1FO",
        "colab": {
          "base_uri": "https://localhost:8080/"
        },
        "outputId": "e68ef0e1-51a7-4952-f4bd-55e16dcd129a"
      },
      "source": [
        "# reverse와 join 활용 \n",
        "data = input()\n",
        "\n",
        "lts = list(data)\n",
        "lts.reverse()\n",
        "s = ''.join(lts)\n",
        " \n",
        "\n",
        "if data == s : print(f'{data}는 회문')\n",
        "else : print(f'{data}는 비회문')"
      ],
      "execution_count": null,
      "outputs": [
        {
          "output_type": "stream",
          "text": [
            "크크\n",
            "크크는 회문\n"
          ],
          "name": "stdout"
        }
      ]
    },
    {
      "cell_type": "code",
      "metadata": {
        "id": "n8En5ca4xyOb",
        "colab": {
          "base_uri": "https://localhost:8080/"
        },
        "outputId": "4292810a-da4d-4320-a99a-23c387e94f63"
      },
      "source": [
        "# [::-1] : 처음부터 끝까지 -1칸 간격으로 ( == 역순으로) \n",
        " \n",
        "data = input()\n",
        "s = data[::-1]\n",
        "\n",
        "if data == s : print(f'{data}는 회문')\n",
        "else : print(f'{data}는 비회문')"
      ],
      "execution_count": null,
      "outputs": [
        {
          "output_type": "stream",
          "text": [
            "크크크크크\n",
            "크크크크크는 회문\n"
          ],
          "name": "stdout"
        }
      ]
    },
    {
      "cell_type": "markdown",
      "metadata": {
        "id": "7AJ45VMez0J1"
      },
      "source": [
        "### 리스트 내장함수\n",
        "* sum() : 리스트의 합을 반환\n",
        "* min() : 리스트 최소값 반환\n",
        "* max() : 리스트 최대값 반환\n",
        "* len() : 리스트 개수 반환"
      ]
    },
    {
      "cell_type": "markdown",
      "metadata": {
        "id": "SAa867TDz2jR"
      },
      "source": [
        "---\n",
        "### 해결문제\n",
        "\n",
        "\n",
        "---\n",
        "자신을 제외한 모든 약수의 합이 자신과 같은 수를 완전수라고 한다. \n",
        "입력한 값이 완전수 인지 확인해 보세요.\n",
        "예) 6, 28, 496"
      ]
    },
    {
      "cell_type": "code",
      "metadata": {
        "id": "Ag8tiyi4z7v1",
        "colab": {
          "base_uri": "https://localhost:8080/"
        },
        "outputId": "b75bf030-c001-4dbb-f481-47a6a6cb70c2"
      },
      "source": [
        "n = int(input())\n",
        "lt = [] #자신을 제외한 약수 리스트\n",
        "\n",
        "#range(시작,종류) : 시작에서 종료 전까지\n",
        "\n",
        "for i in range(1,n) :\n",
        "  if n % i == 0 : lt.append(i)\n",
        "    \n",
        "if n == sum(lt) : print('완전수임')\n",
        "else : print(' 완전수아님')"
      ],
      "execution_count": null,
      "outputs": [
        {
          "output_type": "stream",
          "text": [
            "6\n",
            "완전수임\n"
          ],
          "name": "stdout"
        }
      ]
    },
    {
      "cell_type": "markdown",
      "metadata": {
        "id": "ggnd2AxcgBQI"
      },
      "source": [
        "\n",
        "\n",
        "---\n",
        "### 해결문제\n",
        "\n",
        "\n",
        "---\n",
        "369게임은 3,6,9가 포함된 숫자가 나오면 박수를 치는 게임이다.\n",
        "\n",
        "이때, 해당 숫자에 여러개의 3,6,9가 포함되면 해당 개수만큼 박수를 쳐야한다.\n",
        "\n",
        "예를 들어, 36이면 2번의 박수를 쳐야한다.\n",
        "N을 입력받아서 N이전까지 박수 친 횟수를 구하시오.\n",
        "\n",
        "예) 입력: 35, 출력: 15\n",
        "\n"
      ]
    },
    {
      "cell_type": "code",
      "metadata": {
        "colab": {
          "base_uri": "https://localhost:8080/"
        },
        "id": "kYblbrM0lirA",
        "outputId": "429fd6e9-9e9a-4be0-9a0c-f9ad13f01b75"
      },
      "source": [
        "n = int(input())\n",
        "\n",
        "cnt = 0\n",
        "for i in range(n) :\n",
        "  temp = list(str(i))\n",
        "  print(temp, \"=>\", end = ' ')\n",
        "  temp = [int(i) for i in temp]\n",
        "  \n",
        "  for j in temp :\n",
        "    if j in [3, 6, 9] : cnt = cnt + 1\n",
        "    print(cnt)\n",
        "      \n",
        "print()\n",
        "print(cnt)"
      ],
      "execution_count": null,
      "outputs": [
        {
          "output_type": "stream",
          "text": [
            "40\n",
            "['0'] => 0\n",
            "['1'] => 0\n",
            "['2'] => 0\n",
            "['3'] => 1\n",
            "['4'] => 1\n",
            "['5'] => 1\n",
            "['6'] => 2\n",
            "['7'] => 2\n",
            "['8'] => 2\n",
            "['9'] => 3\n",
            "['1', '0'] => 3\n",
            "3\n",
            "['1', '1'] => 3\n",
            "3\n",
            "['1', '2'] => 3\n",
            "3\n",
            "['1', '3'] => 3\n",
            "4\n",
            "['1', '4'] => 4\n",
            "4\n",
            "['1', '5'] => 4\n",
            "4\n",
            "['1', '6'] => 4\n",
            "5\n",
            "['1', '7'] => 5\n",
            "5\n",
            "['1', '8'] => 5\n",
            "5\n",
            "['1', '9'] => 5\n",
            "6\n",
            "['2', '0'] => 6\n",
            "6\n",
            "['2', '1'] => 6\n",
            "6\n",
            "['2', '2'] => 6\n",
            "6\n",
            "['2', '3'] => 6\n",
            "7\n",
            "['2', '4'] => 7\n",
            "7\n",
            "['2', '5'] => 7\n",
            "7\n",
            "['2', '6'] => 7\n",
            "8\n",
            "['2', '7'] => 8\n",
            "8\n",
            "['2', '8'] => 8\n",
            "8\n",
            "['2', '9'] => 8\n",
            "9\n",
            "['3', '0'] => 10\n",
            "10\n",
            "['3', '1'] => 11\n",
            "11\n",
            "['3', '2'] => 12\n",
            "12\n",
            "['3', '3'] => 13\n",
            "14\n",
            "['3', '4'] => 15\n",
            "15\n",
            "['3', '5'] => 16\n",
            "16\n",
            "['3', '6'] => 17\n",
            "18\n",
            "['3', '7'] => 19\n",
            "19\n",
            "['3', '8'] => 20\n",
            "20\n",
            "['3', '9'] => 21\n",
            "22\n",
            "\n",
            "22\n"
          ],
          "name": "stdout"
        }
      ]
    },
    {
      "cell_type": "code",
      "metadata": {
        "colab": {
          "base_uri": "https://localhost:8080/"
        },
        "id": "ajN1SJkXrmgs",
        "outputId": "84d92890-2758-40c2-fd0a-73421e67e84d"
      },
      "source": [
        "n = int(input())\n",
        "cmt = 0\n",
        "for i in range(1, n):\n",
        "  three = str(i).count('3')\n",
        "  six = str(i).count('6')\n",
        "  nine = str(i).count('9')\n",
        "  cnt += three+six+nine\n",
        "print(f'{n} 이전까지 박수를 친 횟수는 {cnt}번입니다.')\n"
      ],
      "execution_count": null,
      "outputs": [
        {
          "output_type": "stream",
          "text": [
            "40\n",
            "40 이전까지 박수를 친 횟수는 44번입니다.\n"
          ],
          "name": "stdout"
        }
      ]
    },
    {
      "cell_type": "markdown",
      "metadata": {
        "id": "gyS_EUW72Rkg"
      },
      "source": [
        "## 튜플(tuple) \n",
        "+ 튜플의 각 요소는 순서를 가지고 있음\n",
        "+ 괄호(())로 작성되며 각 요소는 쉼표(,)로 구분\n",
        "+ 요소를 추가, 수정, 삭제 불가능\n",
        "+ **한번 결정된 요소는 변경 불가능**\n",
        "+ **인덱싱과 슬라이싱은 리스트와 동일**\n",
        "+ $+$와 $*$연산은 리스트와 동일\n",
        "+ 각 요소에 변수 할당 가능\n",
        " - x, y = (10, 20)"
      ]
    },
    {
      "cell_type": "code",
      "metadata": {
        "colab": {
          "base_uri": "https://localhost:8080/"
        },
        "id": "v29XOUSPtWxx",
        "outputId": "1564e6f7-58e0-4796-dbb1-5d3c2862fbcf"
      },
      "source": [
        "tp = [0, 20, 30]\n",
        "print(tp, type(tp))"
      ],
      "execution_count": null,
      "outputs": [
        {
          "output_type": "stream",
          "text": [
            "[0, 20, 30] <class 'list'>\n"
          ],
          "name": "stdout"
        }
      ]
    },
    {
      "cell_type": "code",
      "metadata": {
        "colab": {
          "base_uri": "https://localhost:8080/"
        },
        "id": "NQI7rfn6to0x",
        "outputId": "61fc30e4-752a-4df5-cc37-6ca0d24e6f45"
      },
      "source": [
        "tp[0] = 100\n",
        "tp"
      ],
      "execution_count": null,
      "outputs": [
        {
          "output_type": "execute_result",
          "data": {
            "text/plain": [
              "[100, 20, 30]"
            ]
          },
          "metadata": {
            "tags": []
          },
          "execution_count": 100
        }
      ]
    },
    {
      "cell_type": "markdown",
      "metadata": {
        "id": "Zu9JAJs22niA"
      },
      "source": [
        "---\n",
        "\n",
        "**생각해보기)**\n",
        "\n",
        "\n",
        "---\n",
        "튜플의 내용을 변경하고 싶을 경우는?\n",
        "---\n",
        "tp = list()를 사용한다"
      ]
    },
    {
      "cell_type": "code",
      "metadata": {
        "id": "C230PWiluY18"
      },
      "source": [
        ""
      ],
      "execution_count": null,
      "outputs": []
    },
    {
      "cell_type": "markdown",
      "metadata": {
        "id": "VXfYSOdW8adn"
      },
      "source": [
        "## 딕션너리(dictionary)\n",
        " - 키(key)와 값(value) 쌍을 요소로 가짐\n",
        " - 중괄호({})로 작성되며 각 요소는 쉼표(,)로 구분\n",
        " - 순서 없음 \n",
        " - 키는 변경할 수 없으며 값은 변경가능 \n"
      ]
    },
    {
      "cell_type": "code",
      "metadata": {
        "id": "ngtkAr4y9h6p"
      },
      "source": [
        "areadata = {'서울시':57, '부산시':62, '대구시':59, \n",
        "            '인천시':59, '강화군':58, '서해5도' : 64, \n",
        "            '광주시' :62, '대전시':60, '울산시':53, \n",
        "            '세종시':58\t}"
      ],
      "execution_count": null,
      "outputs": []
    },
    {
      "cell_type": "markdown",
      "metadata": {
        "id": "8BUk47wo8gvW"
      },
      "source": [
        "### **딕션너리 접근**\n",
        " - 특정 요소 값 가져오기\n",
        "   + **딕션너리명[키]**\n",
        "   + **닥션너리명.get(키값)**\n",
        "    + Key에 대응되는 Value를 돌려줌\n",
        "    + 딕션너리명[키값]인 것과 동일 \n",
        "    + 차이점 : 키가 없을 경우 딕션너리명[키값]은 오류이고 get()으로 가져올 경우는 none\n",
        " - 요소 키 컬렉션  : 딕션너리명.keys()\n",
        " - 요소 값 컬렉션 : 딕션너리명.values()\n",
        " - 키와 요소 컬렉션은 list() 생성자로 리스트로 변환가능\n"
      ]
    },
    {
      "cell_type": "code",
      "metadata": {
        "id": "o5fO5GQewmOP"
      },
      "source": [
        "#부산시 자료 가져오기"
      ],
      "execution_count": null,
      "outputs": []
    },
    {
      "cell_type": "code",
      "metadata": {
        "id": "gujVMNaN9m3M",
        "colab": {
          "base_uri": "https://localhost:8080/"
        },
        "outputId": "22773919-4de3-4d9f-ab62-6c1668929e5f"
      },
      "source": [
        "#키와 값을 분리\n",
        " \n",
        "print(areadata)\n",
        "print(areadata.keys())\n",
        "print(areadata.values())"
      ],
      "execution_count": null,
      "outputs": [
        {
          "output_type": "stream",
          "text": [
            "{'서울시': 57, '부산시': 62, '대구시': 59, '인천시': 59, '강화군': 58, '서해5도': 64, '광주시': 62, '대전시': 60, '울산시': 53, '세종시': 58}\n",
            "dict_keys(['서울시', '부산시', '대구시', '인천시', '강화군', '서해5도', '광주시', '대전시', '울산시', '세종시'])\n",
            "dict_values([57, 62, 59, 59, 58, 64, 62, 60, 53, 58])\n"
          ],
          "name": "stdout"
        }
      ]
    },
    {
      "cell_type": "code",
      "metadata": {
        "id": "HM3IT7dN-B9q"
      },
      "source": [
        "#키와 값으로 출력 \n",
        " "
      ],
      "execution_count": null,
      "outputs": []
    },
    {
      "cell_type": "code",
      "metadata": {
        "colab": {
          "base_uri": "https://localhost:8080/"
        },
        "id": "I6WSiJymxCic",
        "outputId": "12b5b51f-d844-4249-e508-cb2f8a8d057c"
      },
      "source": [
        "areadata['충청'] = 1\n",
        "areadata['제주'] = 100\n",
        "areadata['거제시'] = 1000\n",
        "areadata['김해'] = 10000\n",
        "\n",
        "areadata"
      ],
      "execution_count": null,
      "outputs": [
        {
          "output_type": "execute_result",
          "data": {
            "text/plain": [
              "{'강화군': 58,\n",
              " '거제시': 1000,\n",
              " '광주시': 62,\n",
              " '김해': 10000,\n",
              " '대구시': 59,\n",
              " '대전시': 60,\n",
              " '부산시': 62,\n",
              " '서울시': 57,\n",
              " '서해5도': 64,\n",
              " '세종시': 58,\n",
              " '울산시': 53,\n",
              " '인천시': 59,\n",
              " '제주': 100,\n",
              " '충청': 1}"
            ]
          },
          "metadata": {
            "tags": []
          },
          "execution_count": 4
        }
      ]
    },
    {
      "cell_type": "code",
      "metadata": {
        "id": "W9MO2Dl8y52w"
      },
      "source": [
        ""
      ],
      "execution_count": null,
      "outputs": []
    },
    {
      "cell_type": "code",
      "metadata": {
        "colab": {
          "base_uri": "https://localhost:8080/"
        },
        "id": "6qJb2PAIxW5b",
        "outputId": "0294a0a9-4d57-442a-9468-9b0847f4e8fa"
      },
      "source": [
        "del areadata['제주']\n",
        "areadata"
      ],
      "execution_count": null,
      "outputs": [
        {
          "output_type": "execute_result",
          "data": {
            "text/plain": [
              "{'강화군': 58,\n",
              " '거제시': 1000,\n",
              " '광주시': 62,\n",
              " '김해': 10000,\n",
              " '대구시': 59,\n",
              " '대전시': 60,\n",
              " '부산시': 62,\n",
              " '서울시': 57,\n",
              " '서해5도': 64,\n",
              " '세종시': 58,\n",
              " '울산시': 53,\n",
              " '인천시': 59,\n",
              " '충청': 1}"
            ]
          },
          "metadata": {
            "tags": []
          },
          "execution_count": 5
        }
      ]
    },
    {
      "cell_type": "code",
      "metadata": {
        "colab": {
          "base_uri": "https://localhost:8080/"
        },
        "id": "aUKn6ku6xenw",
        "outputId": "ab3acd46-9aae-4ac8-e4b0-d6d9a403eb51"
      },
      "source": [
        "areadata.pop('충청')"
      ],
      "execution_count": null,
      "outputs": [
        {
          "output_type": "execute_result",
          "data": {
            "text/plain": [
              "1"
            ]
          },
          "metadata": {
            "tags": []
          },
          "execution_count": 6
        }
      ]
    },
    {
      "cell_type": "code",
      "metadata": {
        "colab": {
          "base_uri": "https://localhost:8080/"
        },
        "id": "RKUBSV-FzFi3",
        "outputId": "5927efa8-55d8-4687-ea32-7615d4dfda5b"
      },
      "source": [
        "areadata"
      ],
      "execution_count": null,
      "outputs": [
        {
          "output_type": "execute_result",
          "data": {
            "text/plain": [
              "{'강화군': 58,\n",
              " '거제시': 1000,\n",
              " '광주시': 62,\n",
              " '김해': 10000,\n",
              " '대구시': 59,\n",
              " '대전시': 60,\n",
              " '부산시': 62,\n",
              " '서울시': 57,\n",
              " '서해5도': 64,\n",
              " '세종시': 58,\n",
              " '울산시': 53,\n",
              " '인천시': 59}"
            ]
          },
          "metadata": {
            "tags": []
          },
          "execution_count": 7
        }
      ]
    },
    {
      "cell_type": "code",
      "metadata": {
        "id": "PCBpxoRTzFYK"
      },
      "source": [
        ""
      ],
      "execution_count": null,
      "outputs": []
    },
    {
      "cell_type": "markdown",
      "metadata": {
        "id": "NOiOmi-78m1x"
      },
      "source": [
        "### **요소 변경**\n",
        "* 추가 : 딕션너리명[추가키]=값\n",
        "* 수정 : 딕션너리명[키]=값\n",
        "* 삭제\n",
        " - del 딕션너리명[키]\n",
        " - 딕션너리명.pop[키]"
      ]
    },
    {
      "cell_type": "markdown",
      "metadata": {
        "id": "XMbGob4U-UX-"
      },
      "source": [
        "---\n",
        "\n",
        "\n",
        "### 해결문제\n",
        "\n",
        "---\n",
        "지역별 식중독 지수와 대응요령 딕션너리를 참고하여 해당 지역을 입력 받아서 대응요령을 출력하시오.\n",
        "\n",
        "\n",
        "+ 위험 : 86 이상 \n",
        " - 설사, 구토 등 식중독 의심 증상이 있으면 의료기관을 방문하여 의사 지시에 따름\n",
        "\n",
        "+ 경고:71 이상 86 미만\n",
        " - 조리도구는 세척, 소독 등을 거쳐 세균오염을 방지하고 유통기한, 보관방법 등을 확인하여 음식물 조리. 보관에 각별히 주의하여야 함\n",
        "\n",
        "+ 주의:55 이상 71 미만\n",
        " - 조리음식은 중심부까지 75℃(어패류 85℃)로 1분 이상 완전히 익히고 외부로 운반할 때에는 가급적 아이스박스 등을 이용하여 10℃이하에서 보관 및 운반\n",
        "\n",
        "+ 관심:55 미만\n",
        " - 화장실 사용 후, 귀가 후, 조리 전에 손 씻기를 생활화\n",
        "\n",
        "\n"
      ]
    },
    {
      "cell_type": "code",
      "metadata": {
        "id": "2KdqX6VbLy4H"
      },
      "source": [
        "areadata = [['서울시', 57], ['부산시', 62]]"
      ],
      "execution_count": 4,
      "outputs": []
    },
    {
      "cell_type": "code",
      "metadata": {
        "colab": {
          "base_uri": "https://localhost:8080/"
        },
        "id": "Df8GjXYdL5yE",
        "outputId": "2e5708cf-280b-4e8f-f9a5-fa38f33bf3c5"
      },
      "source": [
        "areadata[1][1]"
      ],
      "execution_count": 5,
      "outputs": [
        {
          "output_type": "execute_result",
          "data": {
            "text/plain": [
              "62"
            ]
          },
          "metadata": {
            "tags": []
          },
          "execution_count": 5
        }
      ]
    },
    {
      "cell_type": "code",
      "metadata": {
        "id": "FmyLftwCMXXm"
      },
      "source": [
        "areadata = {'서울시':57, '부산시':62, '대구시':59, \n",
        "            '인천시':59, '강화군':58, '서해5도' : 64, \n",
        "            '광주시' :62, '대전시':60, '울산시':53, \n",
        "            '세종시':58\t}"
      ],
      "execution_count": 8,
      "outputs": []
    },
    {
      "cell_type": "code",
      "metadata": {
        "colab": {
          "base_uri": "https://localhost:8080/"
        },
        "id": "T7r2RYJwL_h4",
        "outputId": "32b5e4b1-ff9f-480c-bb53-83a714729408"
      },
      "source": [
        "print(areadata,type(areadata))"
      ],
      "execution_count": 9,
      "outputs": [
        {
          "output_type": "stream",
          "text": [
            "{'서울시': 57, '부산시': 62, '대구시': 59, '인천시': 59, '강화군': 58, '서해5도': 64, '광주시': 62, '대전시': 60, '울산시': 53, '세종시': 58} <class 'dict'>\n"
          ],
          "name": "stdout"
        }
      ]
    },
    {
      "cell_type": "code",
      "metadata": {
        "colab": {
          "base_uri": "https://localhost:8080/"
        },
        "id": "RZji6Kd8Mjcz",
        "outputId": "1614f570-e2f2-48bf-dce7-8904e75c34d2"
      },
      "source": [
        "areadata['부산시']"
      ],
      "execution_count": 10,
      "outputs": [
        {
          "output_type": "execute_result",
          "data": {
            "text/plain": [
              "62"
            ]
          },
          "metadata": {
            "tags": []
          },
          "execution_count": 10
        }
      ]
    },
    {
      "cell_type": "code",
      "metadata": {
        "id": "aVktTyG3-Tr1"
      },
      "source": [
        "areadata = {'서울시':57, '부산시':62, '대구시':59, \n",
        "            '인천시':59, '강화군':58, '서해5도' : 64, \n",
        "            '광주시' :62, '대전시':60, '울산시':53, \n",
        "            '세종시':58\t}\n",
        "\n",
        "report = {'위험': '설사, 구토 등 식중독 의심 증상이 있으면 의료기관을 방문하여 의사 지시에 따름',\n",
        "         '경고': '조리도구는 세척, 소독 등을 거쳐 세균오염을 방지하고 유통기한, 보관방법 등을 확인하여 음식물 조리. 보관에 각별히 주의하여야 함',\n",
        "         '주의': '조리음식은 중심부까지 75℃(어패류 85℃)로 1분 이상 완전히 익히고 외부로 운반할 때에는 가급적 아이스박스 등을 이용하여 10℃이하에서 보관 및 운반',\n",
        "         '관심': '화장실 사용 후, 귀가 후, 조리 전에 손 씻기를 생활화'}"
      ],
      "execution_count": 23,
      "outputs": []
    },
    {
      "cell_type": "markdown",
      "metadata": {
        "id": "XyaQmbA1MvBx"
      },
      "source": [
        "+ 위험 : 86 이상\n",
        "+ 경고 : 71이상 86 미만\n",
        "+ 주의 : 71 미만 "
      ]
    },
    {
      "cell_type": "code",
      "metadata": {
        "colab": {
          "base_uri": "https://localhost:8080/"
        },
        "id": "IbpgMDo8OV2O",
        "outputId": "ad443620-42f2-401d-db34-19f98dc53579"
      },
      "source": [
        "#새로운 딕셔너리 만듬\n",
        "rept = {}\n",
        "\n",
        "for k, v in areadata.items() :\n",
        "  if v >= 86 : rept[k] = '위험'\n",
        "  elif v >= 71 : rept[k] = '경고'\n",
        "  elif v >= 56 : rept[k] = '주의'\n",
        "  else : rept[k] = '관심'\n",
        "\n",
        "print(rept)\n",
        "\n",
        "for k, v in rept.items() :\n",
        "  print(f'{k}({v}) : {report[v]}')"
      ],
      "execution_count": 24,
      "outputs": [
        {
          "output_type": "stream",
          "text": [
            "{'서울시': '주의', '부산시': '주의', '대구시': '주의', '인천시': '주의', '강화군': '주의', '서해5도': '주의', '광주시': '주의', '대전시': '주의', '울산시': '관심', '세종시': '주의'}\n",
            "서울시(주의) : 조리음식은 중심부까지 75℃(어패류 85℃)로 1분 이상 완전히 익히고 외부로 운반할 때에는 가급적 아이스박스 등을 이용하여 10℃이하에서 보관 및 운반\n",
            "부산시(주의) : 조리음식은 중심부까지 75℃(어패류 85℃)로 1분 이상 완전히 익히고 외부로 운반할 때에는 가급적 아이스박스 등을 이용하여 10℃이하에서 보관 및 운반\n",
            "대구시(주의) : 조리음식은 중심부까지 75℃(어패류 85℃)로 1분 이상 완전히 익히고 외부로 운반할 때에는 가급적 아이스박스 등을 이용하여 10℃이하에서 보관 및 운반\n",
            "인천시(주의) : 조리음식은 중심부까지 75℃(어패류 85℃)로 1분 이상 완전히 익히고 외부로 운반할 때에는 가급적 아이스박스 등을 이용하여 10℃이하에서 보관 및 운반\n",
            "강화군(주의) : 조리음식은 중심부까지 75℃(어패류 85℃)로 1분 이상 완전히 익히고 외부로 운반할 때에는 가급적 아이스박스 등을 이용하여 10℃이하에서 보관 및 운반\n",
            "서해5도(주의) : 조리음식은 중심부까지 75℃(어패류 85℃)로 1분 이상 완전히 익히고 외부로 운반할 때에는 가급적 아이스박스 등을 이용하여 10℃이하에서 보관 및 운반\n",
            "광주시(주의) : 조리음식은 중심부까지 75℃(어패류 85℃)로 1분 이상 완전히 익히고 외부로 운반할 때에는 가급적 아이스박스 등을 이용하여 10℃이하에서 보관 및 운반\n",
            "대전시(주의) : 조리음식은 중심부까지 75℃(어패류 85℃)로 1분 이상 완전히 익히고 외부로 운반할 때에는 가급적 아이스박스 등을 이용하여 10℃이하에서 보관 및 운반\n",
            "울산시(관심) : 화장실 사용 후, 귀가 후, 조리 전에 손 씻기를 생활화\n",
            "세종시(주의) : 조리음식은 중심부까지 75℃(어패류 85℃)로 1분 이상 완전히 익히고 외부로 운반할 때에는 가급적 아이스박스 등을 이용하여 10℃이하에서 보관 및 운반\n"
          ],
          "name": "stdout"
        }
      ]
    },
    {
      "cell_type": "code",
      "metadata": {
        "id": "30BBbUL0-gg5"
      },
      "source": [
        "'''\n",
        "다음과 같이 출력 \n",
        "서울시(주의) : 조리음식은 중심부까지 75℃(어패류 85℃)로 1분 이상 완전히 익히고 외부로 운반할 때에는 가급적 아이스박스 등을 이용하여 10℃이하에서 보관 및 운반\n",
        "부산시(주의) : 조리음식은 중심부까지 75℃(어패류 85℃)로 1분 이상 완전히 익히고 외부로 운반할 때에는 가급적 아이스박스 등을 이용하여 10℃이하에서 보관 및 운반\n",
        "대구시(주의) : 조리음식은 중심부까지 75℃(어패류 85℃)로 1분 이상 완전히 익히고 외부로 운반할 때에는 가급적 아이스박스 등을 이용하여 10℃이하에서 보관 및 운반\n",
        "인천시(주의) : 조리음식은 중심부까지 75℃(어패류 85℃)로 1분 이상 완전히 익히고 외부로 운반할 때에는 가급적 아이스박스 등을 이용하여 10℃이하에서 보관 및 운반\n",
        "강화군(주의) : 조리음식은 중심부까지 75℃(어패류 85℃)로 1분 이상 완전히 익히고 외부로 운반할 때에는 가급적 아이스박스 등을 이용하여 10℃이하에서 보관 및 운반\n",
        "서해5도(주의) : 조리음식은 중심부까지 75℃(어패류 85℃)로 1분 이상 완전히 익히고 외부로 운반할 때에는 가급적 아이스박스 등을 이용하여 10℃이하에서 보관 및 운반\n",
        "광주시(주의) : 조리음식은 중심부까지 75℃(어패류 85℃)로 1분 이상 완전히 익히고 외부로 운반할 때에는 가급적 아이스박스 등을 이용하여 10℃이하에서 보관 및 운반\n",
        "대전시(주의) : 조리음식은 중심부까지 75℃(어패류 85℃)로 1분 이상 완전히 익히고 외부로 운반할 때에는 가급적 아이스박스 등을 이용하여 10℃이하에서 보관 및 운반\n",
        "울산시(관심) : 화장실 사용 후, 귀가 후, 조리 전에 손 씻기를 생활화\n",
        "세종시(주의) : 조리음식은 중심부까지 75℃(어패류 85℃)로 1분 이상 완전히 익히고 외부로 운반할 때에는 가급적 아이스박스 등을 이용하여 10℃이하에서 보관 및 운반\n",
        "'''\n",
        "\n",
        "\n"
      ],
      "execution_count": null,
      "outputs": []
    },
    {
      "cell_type": "markdown",
      "metadata": {
        "id": "A7PVvgK3CCOq"
      },
      "source": [
        "## 집합(set)\n",
        "+ **특징**\n",
        " - 중복 없는 요소로만 구성\n",
        " - 중괄호({}) 작성되며 각 요소는 쉼표(,)로 구분\n",
        " - 순서 없음\n",
        "\n",
        "+ **생성자 set()**\n",
        " - 리스트나 튜플의 중복 요소 제거 \n",
        "\n",
        "+ **요소 추가**\n",
        " - 집합명.add(요소) : 하나의 요소 추가\n",
        " - 집합명.update(추가집합) : 여러 요소를 추가\n",
        "\n",
        "+ **요소 삭제**\n",
        " - 집합명.remove(요소값) : 하나의 요소 삭제\n",
        " - 집합명.clear() : 모든 요소 삭제\n",
        " \n",
        "+ **집합 연산**\n",
        " - 교집합 : &\n",
        " - 합집합 : |\n",
        " - 차집합 : -"
      ]
    },
    {
      "cell_type": "code",
      "metadata": {
        "id": "2vi9kDbZC73c",
        "colab": {
          "base_uri": "https://localhost:8080/"
        },
        "outputId": "22dcefb2-2565-4906-db41-e1fc43f5743b"
      },
      "source": [
        "lt = [11, 3,1, 2, 2, 3,3, 5]\n",
        "\n",
        "#중복 요소 제거  \n",
        "\n",
        "lt = list(set(lt))\n",
        "print(lt, type(lt))"
      ],
      "execution_count": 28,
      "outputs": [
        {
          "output_type": "stream",
          "text": [
            "[1, 2, 3, 5, 11] <class 'list'>\n"
          ],
          "name": "stdout"
        }
      ]
    },
    {
      "cell_type": "markdown",
      "metadata": {
        "id": "gXPzTZdiDTtL"
      },
      "source": [
        "## **zip()**\n",
        "+ 동일한 개수로 이루어진 컬렉션 자료형을 묶어 주는 역할을 하는 함수"
      ]
    },
    {
      "cell_type": "code",
      "metadata": {
        "id": "fmBetaMKDg3-",
        "colab": {
          "base_uri": "https://localhost:8080/"
        },
        "outputId": "6bdd72e3-1d4f-4ab8-c65a-0bb06be6d4fb"
      },
      "source": [
        "lt = [10,50,30]\n",
        "tp = ('a','b','c')\n",
        "\n",
        "#딕션너리 만들기 \n",
        "dt1 = list(zip(lt, tp))\n",
        "dt2 = dict(zip(tp, lt))\n",
        "print(dt1)\n",
        "print(dt2)"
      ],
      "execution_count": 34,
      "outputs": [
        {
          "output_type": "stream",
          "text": [
            "[(10, 'a'), (50, 'b'), (30, 'c')]\n",
            "{'a': 10, 'b': 50, 'c': 30}\n"
          ],
          "name": "stdout"
        }
      ]
    },
    {
      "cell_type": "code",
      "metadata": {
        "id": "xNGHaezSDpGy"
      },
      "source": [
        "#리스트 만들기 "
      ],
      "execution_count": null,
      "outputs": []
    }
  ]
}