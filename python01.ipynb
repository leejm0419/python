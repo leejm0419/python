{
  "nbformat": 4,
  "nbformat_minor": 0,
  "metadata": {
    "colab": {
      "name": "python01.ipynb",
      "provenance": [],
      "collapsed_sections": [],
      "toc_visible": true,
      "include_colab_link": true
    },
    "kernelspec": {
      "name": "python3",
      "display_name": "Python 3"
    },
    "language_info": {
      "name": "python"
    }
  },
  "cells": [
    {
      "cell_type": "markdown",
      "metadata": {
        "id": "view-in-github",
        "colab_type": "text"
      },
      "source": [
        "<a href=\"https://colab.research.google.com/github/leejm0419/python/blob/main/python01.ipynb\" target=\"_parent\"><img src=\"https://colab.research.google.com/assets/colab-badge.svg\" alt=\"Open In Colab\"/></a>"
      ]
    },
    {
      "cell_type": "markdown",
      "metadata": {
        "id": "su17VGVlJM1g"
      },
      "source": [
        "# 파이썬 기초\n"
      ]
    },
    {
      "cell_type": "markdown",
      "metadata": {
        "id": "sv3CQZ0OTYEQ"
      },
      "source": [
        "## 파이썬\n",
        "* 1990년 암스테르담의 귀도 반 로섬(Guido Van Rossum)이 개발한 **플랫폼 독립**적인 **인터프리터** 언어 \n",
        "  + 변수를 선언할 때 타입을 지정하지 않음\n",
        "  + 값을 할당하면 그때 동적으로 타입이 정해짐\n",
        "  + 타입이 다를 경우 형 변환을 해줘야 연산에 사용할 수 있음\n",
        "  \n",
        "### 파이썬 기본 문법\n",
        "* 주석 : 프로그램 실행과 관계 없이 코드에 대한 설명을 작성\n",
        "  + 한줄 주석 : # \n",
        "  + 여러줄 주석 : 작은따옴표 세개('''주석내용''')\n",
        "\n",
        "* 들여쓰기(indent)\n",
        "  + 코드 블럭을 구성하기 위해서는 반드시 들여쓰기 해야함\n",
        "\n",
        "* 행분리 : 역슬래쉬(\\)\n",
        "  + 하나의 명령을 여러 줄에 수행\n",
        "\n",
        "* 행결합 : 세미콜론(;)\n",
        "  + 한 줄에 여러 명령 수행\n"
      ]
    },
    {
      "cell_type": "code",
      "metadata": {
        "id": "z19VF2KQTC6u",
        "colab": {
          "base_uri": "https://localhost:8080/"
        },
        "outputId": "421956db-e19c-4603-d8f5-b44fbee92a9e"
      },
      "source": [
        "'''\n",
        "데이터분석으로 배우는 인공지능\n",
        "작성자 : 김경민\n",
        "'''\n",
        "print( ' 안녕 이정민 ' )"
      ],
      "execution_count": null,
      "outputs": [
        {
          "output_type": "stream",
          "text": [
            " 안녕 이정민 \n"
          ],
          "name": "stdout"
        }
      ]
    },
    {
      "cell_type": "markdown",
      "metadata": {
        "id": "UK8mIocaHcm6"
      },
      "source": [
        "## 변수(Variable)\n",
        "* 필요한 데이터를 저장해 놓는 기억 공간의 별칭\n",
        "* 변수 명 규칙\n",
        "  + 영문 문자와 숫자 사용 : 대소문자 구분\n",
        "  + 문자나 _(밑줄 문자)로 시작 : 숫자부터 시작하면 안 됨\n",
        "  + 특수 문자(+, -, *, /, $, @, &, % 등)는 사용할 수 없음\n",
        "  + python 키워드(if, for, while, and, or 등)는 사용할 수 없음\n",
        "\n"
      ]
    },
    {
      "cell_type": "code",
      "metadata": {
        "colab": {
          "base_uri": "https://localhost:8080/",
          "height": 35
        },
        "id": "A3gpaanBUigf",
        "outputId": "55c683d3-9a06-483a-c450-d31480c2bf13"
      },
      "source": [
        "x = '10'\n",
        "\n",
        "x"
      ],
      "execution_count": null,
      "outputs": [
        {
          "output_type": "execute_result",
          "data": {
            "application/vnd.google.colaboratory.intrinsic+json": {
              "type": "string"
            },
            "text/plain": [
              "'10'"
            ]
          },
          "metadata": {
            "tags": []
          },
          "execution_count": 10
        }
      ]
    },
    {
      "cell_type": "markdown",
      "metadata": {
        "id": "KbXsZqOQC9C4"
      },
      "source": [
        "\n",
        "### 파이썬 데이터 타입(Data Type)\n",
        "* 정수 : 정수 자료형(int)\n",
        "* 실수 : 부동소수점 자료형(float)\n",
        "* 참거짓 : 참(True)과 거짓(False)를 나타내는 부울 자료형(bool)\n",
        "* 문자열 : 문자열 자료형(str), 작은따옴표('')나 큰따옴표(\"\")로 묶음\n"
      ]
    },
    {
      "cell_type": "markdown",
      "metadata": {
        "id": "6N1gGIhVC-__"
      },
      "source": [
        "\n",
        "### 데이터 타입 확인 \n",
        "* type() 함수 "
      ]
    },
    {
      "cell_type": "code",
      "metadata": {
        "id": "R4zETtllGaBS",
        "colab": {
          "base_uri": "https://localhost:8080/"
        },
        "outputId": "f52b6784-2ad2-4207-e546-e0c05895edb2"
      },
      "source": [
        "x = 10\n",
        "y = 20.5\n",
        "b = True \n",
        "s = 'Hello Python!'\n",
        " \n",
        "print(x, type(x))\n",
        "print(y, type(y))\n",
        "print(b, type(b))\n",
        "print(s, type(s))"
      ],
      "execution_count": null,
      "outputs": [
        {
          "output_type": "stream",
          "text": [
            "10 <class 'int'>\n",
            "20.5 <class 'float'>\n",
            "True <class 'bool'>\n",
            "Hello Python! <class 'str'>\n"
          ],
          "name": "stdout"
        }
      ]
    },
    {
      "cell_type": "markdown",
      "metadata": {
        "id": "11wNQjyDPh-w"
      },
      "source": [
        "\n",
        "\n",
        "---\n",
        "\n",
        "**생각해보기)**\n",
        "\n",
        "\n",
        "---\n",
        "10과 '10'은 같은 자료형일까?\n"
      ]
    },
    {
      "cell_type": "markdown",
      "metadata": {
        "id": "YwtNjm3wXfLq"
      },
      "source": [
        "## 형변환(type Casting)\n",
        "* int() : 실수나 문자열을 정수로 변환\n",
        "* float() : 정수나 문자열을 실수로 변환\n",
        "* str() : 정수나 실수를 문자열로 변환"
      ]
    },
    {
      "cell_type": "code",
      "metadata": {
        "colab": {
          "base_uri": "https://localhost:8080/"
        },
        "id": "SoZ6O2aRXKxP",
        "outputId": "6a388dea-4135-4d08-998c-7c8722eb5b52"
      },
      "source": [
        "x = 10\n",
        "y=int(y)\n",
        "\n",
        "print(x+y)\n"
      ],
      "execution_count": null,
      "outputs": [
        {
          "output_type": "stream",
          "text": [
            "30\n"
          ],
          "name": "stdout"
        }
      ]
    },
    {
      "cell_type": "code",
      "metadata": {
        "colab": {
          "base_uri": "https://localhost:8080/"
        },
        "id": "cW7c1nZkXf01",
        "outputId": "e5bb7f22-c2a5-4103-827e-fed56a8a1e83"
      },
      "source": [
        "x = 10\n",
        "y = '20'\n",
        "\n",
        "print(str(x)+y)\n"
      ],
      "execution_count": null,
      "outputs": [
        {
          "output_type": "stream",
          "text": [
            "1020\n"
          ],
          "name": "stdout"
        }
      ]
    },
    {
      "cell_type": "markdown",
      "metadata": {
        "id": "DWtUMslKJsti"
      },
      "source": [
        "## 파이썬 기본 입출력\n",
        "\n"
      ]
    },
    {
      "cell_type": "markdown",
      "metadata": {
        "id": "3Bzget_gCrTY"
      },
      "source": [
        "### 표준 입력 : input() \n",
        "* 표준 입력 장치인 키보드로 부터 입력\n",
        "* 입력된 값은 문자열\n",
        "```python\n",
        "input() # 표준 입력장치로 부터 문자열을 입력\n",
        "input('문자열') # 문자열을 출력하고 표준 입력장치로 부터 문자열 입력\n",
        "```"
      ]
    },
    {
      "cell_type": "code",
      "metadata": {
        "id": "xQJnx1BGOV6s",
        "colab": {
          "base_uri": "https://localhost:8080/"
        },
        "outputId": "53965048-bdc8-4a34-c493-ce0836a7e02a"
      },
      "source": [
        "x = input( '숫자입력' )\n",
        "y = input( '숫자입력' )\n",
        "\n",
        "print( int(x)+int(y))"
      ],
      "execution_count": null,
      "outputs": [
        {
          "output_type": "stream",
          "text": [
            "숫자입력10\n",
            "숫자입력20\n",
            "30\n"
          ],
          "name": "stdout"
        }
      ]
    },
    {
      "cell_type": "markdown",
      "metadata": {
        "id": "zxsjrnPrbL41"
      },
      "source": [
        "---\n",
        "\n",
        "**생각해보기)**\n",
        "\n",
        "\n",
        "---\n",
        "정수나 실수 입력은 어떻게 받을까?\n"
      ]
    },
    {
      "cell_type": "markdown",
      "metadata": {
        "id": "hkIw8ddZbV64"
      },
      "source": [
        "### 숫자 입력 "
      ]
    },
    {
      "cell_type": "code",
      "metadata": {
        "id": "pxD3xR4_7lww",
        "colab": {
          "base_uri": "https://localhost:8080/"
        },
        "outputId": "65eea510-9246-4f5b-ed2c-f141c46bb50a"
      },
      "source": [
        "#정수 입력\n",
        "x = int(input())\n",
        "\n",
        "#실수 입력\n",
        "y = float(input())\n",
        "\n",
        "\n",
        " "
      ],
      "execution_count": null,
      "outputs": [
        {
          "output_type": "stream",
          "text": [
            "10\n",
            "20\n"
          ],
          "name": "stdout"
        }
      ]
    },
    {
      "cell_type": "markdown",
      "metadata": {
        "id": "_mn6EKvJOVhJ"
      },
      "source": [
        "\n",
        "### 표준 출력 : print() \n",
        "* 표준 출력 장치인 모니터로 출력\n",
        "```python\n",
        "print(값1, 값2, ....) # 문자열을 출력하고 표준 입력장치로 부터 문자열 입력\n",
        "```\n",
        "\n",
        "* f-string\n",
        "  + Python 신규 버전(3.6 이상) 부터 제공되는 기능\n",
        "  + f'문자열' : f로 시작하는 문자열\n",
        "    + 문자열 내부에 변수의 내용을 사용할 경우 {변수}\n",
        "    + 문자열 내부에 실수인 변수를 소수점 처리할 경우 {실수변수:.소수점자리f}\n",
        "   \n"
      ]
    },
    {
      "cell_type": "code",
      "metadata": {
        "id": "Bduh4-6GOOWC",
        "colab": {
          "base_uri": "https://localhost:8080/"
        },
        "outputId": "2a0380f5-e165-41b0-c5c4-7bff8a321468"
      },
      "source": [
        "#소수정 처리 \n",
        "x = 3.14159\n",
        "\n",
        "x = 3.14159\n",
        "print('x=', x)\n",
        "\n",
        "\n"
      ],
      "execution_count": null,
      "outputs": [
        {
          "output_type": "stream",
          "text": [
            "x= 3.14159\n"
          ],
          "name": "stdout"
        }
      ]
    },
    {
      "cell_type": "markdown",
      "metadata": {
        "id": "LAJMcsxRCDxi"
      },
      "source": [
        "## 연산자\n",
        "자료를 처리하기 위한 수식들을 결합하여 연산 동작을 수행하도록 하는 기호\n",
        "\n",
        "+ 산술연산자\n",
        "  - 수학적 계산을 수행할 때 사용하는 연산자\n",
        "  - 사칙연산자(+, -, \\*, /), 제곱(\\**), 나머지(%), 나누기 결과 정수(//)\n",
        "\n",
        "+ 비교연산자(관계연산자)\n",
        "  - 비교할 때 사용하는 연산자\n",
        "  - 등호(==), 같지 않음(!=), 부등호(<, >, <=, >=)\n",
        "\n",
        "+ 논리연산자\n",
        "  - 주어진 논리식을 판단하여, 참(true)과 거짓(false)을 결정하는 연산자\n",
        "  - and(논리곱), or(논리합), not\n",
        "\n",
        "+ 할당연산자\n",
        "  - 변수에 값을 할당하기 위하여 사용하는 연산자\n"
      ]
    },
    {
      "cell_type": "code",
      "metadata": {
        "id": "5Vlw4Oc-DoNm",
        "colab": {
          "base_uri": "https://localhost:8080/"
        },
        "outputId": "247e59a4-2b55-4bb6-93b5-340527d38bb2"
      },
      "source": [
        "#두 정수를 입력받아서 산술연산\n",
        "x = 10%3\n",
        "print(x)\n",
        " "
      ],
      "execution_count": null,
      "outputs": [
        {
          "output_type": "stream",
          "text": [
            "1\n"
          ],
          "name": "stdout"
        }
      ]
    },
    {
      "cell_type": "markdown",
      "metadata": {
        "id": "giOVG8WsLqGo"
      },
      "source": [
        "## 조건문\n",
        "프로그램의 실행 흐름을 바꾸고자 할 때 사용하는 제어문\n",
        " - 사용자가 지정한 조건에 따라 실행할 문장을 결정함\n",
        "```python\n",
        "if (조건식) : \n",
        "  명령문\n",
        "elif (조건식) :\n",
        "  명령문\n",
        "else :\n",
        "  명령문\n",
        "```\n",
        "\n",
        "- if 조건문 뒤에는 반드시 콜론(:)\n",
        "- 바로 아래 문장부터 **if문에 속하는 모든 문장에 들여쓰기(indentation)**를 해야 함\n",
        "- 파이썬에는 다른 언어에 있는 switch 문이 존재하지 않음 : if...elif...elif... 문으로 수행\n",
        "- pass  : def 문이나 if 문처럼 코드 블록을 본문으로 갖는 표현에서 본문을 비워 둘 때 사용"
      ]
    },
    {
      "cell_type": "code",
      "metadata": {
        "id": "2UIKX01cNywh",
        "colab": {
          "base_uri": "https://localhost:8080/"
        },
        "outputId": "8c25f630-ffa3-4a31-cf1e-9e6aceb858d3"
      },
      "source": [
        "# 정수를 입력받아서 짝수/홀수 구분\n",
        "x = int(input())\n",
        "\n",
        "if x % 2 == 0 :\n",
        "   print(f'{x}는 짝수')\n",
        "else :\n",
        "  print(f'{x}는 홀수')"
      ],
      "execution_count": null,
      "outputs": [
        {
          "output_type": "stream",
          "text": [
            "11\n",
            "11는 홀수\n"
          ],
          "name": "stdout"
        }
      ]
    },
    {
      "cell_type": "code",
      "metadata": {
        "id": "QpoBs8ucO0hO"
      },
      "source": [
        "# 성적을 입력받아서 70이상이면 Pass, 70점미만 60점이상 재수강, 60점미만 Fail\n",
        "\n",
        "#1. 입력 => int, float\n",
        "\n",
        "\n",
        "#2. 1)if .. else, 2)if ... elif ... else"
      ],
      "execution_count": null,
      "outputs": []
    },
    {
      "cell_type": "code",
      "metadata": {
        "colab": {
          "base_uri": "https://localhost:8080/"
        },
        "id": "aM03yLDQeztT",
        "outputId": "bf30160d-91d0-4ee4-eacc-06b592966b76"
      },
      "source": [
        "x = float(input())\n",
        "\n",
        "'''\n",
        "if x >= 70 : print('pass')\n",
        "else :\n",
        "  if x >= 60 : print('재수강')\n",
        "  else : print('fail')\n",
        "  '''\n",
        "\n",
        "if  x >= 70 : print;print('pass')\n",
        "elif x >= 60 : print;print('재수강')\n",
        "else : print;print('fail')"
      ],
      "execution_count": null,
      "outputs": [
        {
          "output_type": "stream",
          "text": [
            "65\n",
            "재수강\n"
          ],
          "name": "stdout"
        }
      ]
    },
    {
      "cell_type": "markdown",
      "metadata": {
        "id": "SSdYAZd7VKu7"
      },
      "source": [
        "## 반복문\n",
        "+ **for문** : 컬렉션으로부터 하나씩 요소(element)를 가져와, 루프 내의 문장들을 실행\n",
        "```python\n",
        "for 변수 in 컬렉션:\n",
        "    명령문\n",
        "    명령문\n",
        "    ...\n",
        "```\n",
        "\n",
        " + **range() 함수**\n",
        "```python\n",
        "range(시작숫자, 종료숫자, step)\n",
        "```\n",
        "    + 결과는 시작숫자부터 종료숫자 바로 앞 숫자까지 컬렉션 생성\n",
        "    + 값을 확인하기 위해서는 순서가 있는 리스트나 튜플 컬렉션으로 변환해야 함\n",
        "    + 시작숫자를 생략하면 0부터 생성\n",
        "    + step을 생략하면 1씩 증가\n",
        "\n",
        "  + **in** 연산자, **not in** 연산자\n",
        "    + 멤버십 연산자로 컬렉션에 속한 멤버를 확인하기 위한 연산자\n",
        "\n",
        "+ **while문** : while 키워드 다음의 조건식이 참일 경우 계속 while 안의 블럭을 실행\n",
        "```python\n",
        "while 조건식:\n",
        "    명령문\n",
        "    명령문\n",
        "    ...\n",
        "```\n",
        "+ **break 문**\n",
        "  + 반복문 안에서 루프를 빠져나오기 위해 을 사용\n",
        "\n",
        "+ **continue문**\n",
        "  + 루프 블럭의 나머지 문장들을 실행하지 않고 다음 루프로 직접 돌아가게 함 "
      ]
    },
    {
      "cell_type": "code",
      "metadata": {
        "id": "SCXuAE5YWfCh",
        "colab": {
          "base_uri": "https://localhost:8080/"
        },
        "outputId": "ae1c288a-7aa8-4503-a4ab-b8183a21b6af"
      },
      "source": [
        "# 1에서 50까지 숫자 중의 3의 배수이면서 4의 배수인 수를 출력\n",
        "# for문으로 \n",
        "\n",
        "'''\n",
        "for n in range(1,11) : \n",
        "  if n%2 == 0 : break\n",
        "  print(f'n={n}')\n",
        "'''\n",
        "\n",
        "#시작값을 안주면 0부터\n",
        "\n",
        "result = 0\n",
        "for n in range(1, 50):\n",
        "    if n % 3 == 0 or n % 4 == 0: \n",
        "        result = n\n",
        "print(result)"
      ],
      "execution_count": null,
      "outputs": [
        {
          "output_type": "stream",
          "text": [
            "48\n"
          ],
          "name": "stdout"
        }
      ]
    },
    {
      "cell_type": "markdown",
      "metadata": {
        "id": "y-B4cVX3iXMx"
      },
      "source": [
        ""
      ]
    },
    {
      "cell_type": "code",
      "metadata": {
        "id": "2OVQU8sn7Ybb",
        "colab": {
          "base_uri": "https://localhost:8080/",
          "height": 136
        },
        "outputId": "1ccad742-6782-40ed-e5b6-a35a590e1473"
      },
      "source": [
        "# 1에서 50까지 숫자 중의 3의 배수이면서 4의 배수인 수를 출력\n",
        "# while문으로 \n",
        "\n",
        "result = 0\n",
        "    while n in range(1, 50):\n",
        "    if n % 3 == 0 or n % 4 == 0:  \n",
        "     result = n\n",
        "print(result)"
      ],
      "execution_count": null,
      "outputs": [
        {
          "output_type": "error",
          "ename": "IndentationError",
          "evalue": "ignored",
          "traceback": [
            "\u001b[0;36m  File \u001b[0;32m\"<ipython-input-21-c46241f5dea0>\"\u001b[0;36m, line \u001b[0;32m5\u001b[0m\n\u001b[0;31m    while n in range(1, 50):\u001b[0m\n\u001b[0m    ^\u001b[0m\n\u001b[0;31mIndentationError\u001b[0m\u001b[0;31m:\u001b[0m unexpected indent\n"
          ]
        }
      ]
    },
    {
      "cell_type": "markdown",
      "metadata": {
        "id": "x3ZrcPi4TdoM"
      },
      "source": [
        "---\n",
        "## **해결문제**\n",
        "\n",
        "\n",
        "---\n",
        "n이하의 피보나치 수열을 출력하시오.\n",
        " \n",
        " 예) 1000이하\n",
        " 0, 1, 1, 2, 3, 5, 8, 13, 21, 34, 55, 89, 144, 233, 377, 610, 987"
      ]
    },
    {
      "cell_type": "code",
      "metadata": {
        "id": "_TkcBBQCUPBz"
      },
      "source": [
        "def fib(n):\n",
        "    if n==0:\n",
        "        return 0\n",
        "    if n==1:\n",
        "        return 1\n",
        "    return fib(n-1)+fib(n-2)\n",
        "\n",
        "n=int(input(\"정수를 입력하세요\"))\n",
        "\n",
        "for i in range(n):\n",
        "    print (fib(i))"
      ],
      "execution_count": null,
      "outputs": []
    },
    {
      "cell_type": "markdown",
      "metadata": {
        "id": "HamzjivGDVPY"
      },
      "source": [
        "\n",
        "\n",
        "---\n",
        "## **해결문제**\n",
        "\n",
        "\n",
        "---\n",
        " 밑변과 높이를 입력받아 삼각형의 면적을 구하시오.\n",
        " * 밑변과 높이는 정수형으로 입력\n",
        "\n"
      ]
    },
    {
      "cell_type": "code",
      "metadata": {
        "id": "SKr-npERGvSN",
        "colab": {
          "base_uri": "https://localhost:8080/"
        },
        "outputId": "1e84ceba-b80b-473c-9cc5-3a464c6916df"
      },
      "source": [
        "\n",
        "s=int(input())\n",
        "h=int(input())\n",
        "\n",
        "v=s*h/2\n",
        "\n",
        "print(v)\n"
      ],
      "execution_count": 50,
      "outputs": [
        {
          "output_type": "stream",
          "text": [
            "10\n",
            "2\n",
            "10.0\n"
          ],
          "name": "stdout"
        }
      ]
    },
    {
      "cell_type": "markdown",
      "metadata": {
        "id": "SV2YNyZXG4EV"
      },
      "source": [
        "---\n",
        "\n",
        "**생각해보기)**\n",
        "\n",
        "\n",
        "---\n",
        "정수형으로 입력되는 밑변과 높이를 공백을 기준으로 한 줄로 입력받는다면?\n",
        "* 예) 20 10"
      ]
    }
  ]
}